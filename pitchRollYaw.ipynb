{
 "cells": [
  {
   "cell_type": "code",
   "execution_count": 2,
   "id": "84d436d9-e9b5-456c-8152-47faf85bd25c",
   "metadata": {},
   "outputs": [],
   "source": [
    "import numpy as np"
   ]
  },
  {
   "cell_type": "code",
   "execution_count": 4,
   "id": "098589b3-6478-44dc-9dcb-4cd8208fcb89",
   "metadata": {},
   "outputs": [
    {
     "data": {
      "text/plain": [
       "'\\npoint1 = np.array([0.1267, 1.2877,0.9845])\\npoint2 = np.array([0.1186, 1.6733, 0.9878])\\npoint3 = np.array([-0.1269, 1.2560, 0.9859])\\n \\npoint1 = np.array([0.1186, 1.6733, 0.9878])\\npoint2 = np.array([0.1267, 1.2877,0.9845])\\npoint3 = np.array([-0.1269, 1.2560, 0.9859])\\n\\npoint1 = np.array([2.4779, 0.2682, 0.0630])\\npoint2 = np.array([2.7506, 0.0014, 0.0636])\\npoint3 = np.array([2.4835, -0.2715, 0.062])\\n'"
      ]
     },
     "execution_count": 4,
     "metadata": {},
     "output_type": "execute_result"
    }
   ],
   "source": [
    "\n",
    "\n",
    "point1 = np.array([0.1186, 1.6733, 0.9878])\n",
    "point2 = np.array([-0.1189, 1.6661, 0.9894])\n",
    "point3 = np.array([-0.1269, 1.2560, 0.9859])\n",
    "\n",
    "'''\n",
    "point1 = np.array([0.1267, 1.2877,0.9845])\n",
    "point2 = np.array([0.1186, 1.6733, 0.9878])\n",
    "point3 = np.array([-0.1269, 1.2560, 0.9859])\n",
    " \n",
    "point1 = np.array([0.1186, 1.6733, 0.9878])\n",
    "point2 = np.array([0.1267, 1.2877,0.9845])\n",
    "point3 = np.array([-0.1269, 1.2560, 0.9859])\n",
    "\n",
    "point1 = np.array([2.4779, 0.2682, 0.0630])\n",
    "point2 = np.array([2.7506, 0.0014, 0.0636])\n",
    "point3 = np.array([2.4835, -0.2715, 0.062])\n",
    "'''"
   ]
  },
  {
   "cell_type": "code",
   "execution_count": 6,
   "id": "d89ebd8a-0668-4880-a3ba-c111197cbd17",
   "metadata": {},
   "outputs": [
    {
     "name": "stdout",
     "output_type": "stream",
     "text": [
      "[-0.2375 -0.0072  0.0016] [-0.2455 -0.4173 -0.0019]\n"
     ]
    }
   ],
   "source": [
    "# Compute vectors from point1 to point2 and point1 to point3\n",
    "v1 = point2 - point1\n",
    "v2 = point3 - point1\n",
    "print(v1, v2)"
   ]
  },
  {
   "cell_type": "code",
   "execution_count": 8,
   "id": "a6b74de7-80a2-4697-a181-0235ee132692",
   "metadata": {},
   "outputs": [
    {
     "data": {
      "text/plain": [
       "array([ 0.00068136, -0.00084405,  0.09734115])"
      ]
     },
     "execution_count": 8,
     "metadata": {},
     "output_type": "execute_result"
    }
   ],
   "source": [
    "# Calculate the normal vector (cross product of v1 and v2)\n",
    "normal_vector = np.cross(v1, v2)\n",
    "normal_vector"
   ]
  },
  {
   "cell_type": "code",
   "execution_count": 10,
   "id": "69955ac3-776a-4b5f-abc9-41cf38b185cd",
   "metadata": {},
   "outputs": [],
   "source": [
    "# Normalize the normal vector\n",
    "normal_vectorN = normal_vector / np.linalg.norm(normal_vector)"
   ]
  },
  {
   "cell_type": "code",
   "execution_count": 12,
   "id": "8f685b11-8bcd-4877-abf6-8278ac28a26b",
   "metadata": {},
   "outputs": [
    {
     "data": {
      "text/plain": [
       "array([ 0.00699928, -0.00867051,  0.99993791])"
      ]
     },
     "execution_count": 12,
     "metadata": {},
     "output_type": "execute_result"
    }
   ],
   "source": [
    "normal_vectorN"
   ]
  },
  {
   "cell_type": "code",
   "execution_count": 14,
   "id": "452406f7-338e-4286-9fa1-634ffa95b944",
   "metadata": {},
   "outputs": [],
   "source": [
    "# Calculate pitch, roll, and yaw (assuming normal vector is [a, b, c])\n",
    "a, b, c = normal_vectorN"
   ]
  },
  {
   "cell_type": "code",
   "execution_count": 16,
   "id": "126422d1-87b4-4b92-a97e-e8ccfcd19c61",
   "metadata": {},
   "outputs": [
    {
     "name": "stdout",
     "output_type": "stream",
     "text": [
      "Normal Vector: [ 0.00699928 -0.00867051  0.99993791]\n",
      "Pitch (degrees): -0.4967899610974185\n",
      "Roll (degrees): 0.4010323208660527\n",
      "Yaw (degrees): 89.36153680693215\n"
     ]
    }
   ],
   "source": [
    "# Pitch: angle with the xy-plane\n",
    "pitch = np.arctan2(b, np.sqrt(a**2 + c**2))\n",
    "\n",
    "# Roll: angle with the xz-plane\n",
    "roll = np.arctan2(a, np.sqrt(b**2 + c**2))\n",
    "\n",
    "# Yaw: angle with the yz-plane\n",
    "yaw = np.arctan2(c, np.sqrt(a**2 + b**2))\n",
    "\n",
    "# Convert angles from radians to degrees\n",
    "pitch_deg = np.degrees(pitch)\n",
    "roll_deg = np.degrees(roll)\n",
    "yaw_deg = np.degrees(yaw)\n",
    "\n",
    "# Output the results\n",
    "print(f\"Normal Vector: {normal_vectorN}\")\n",
    "print(f\"Pitch (degrees): {pitch_deg}\")\n",
    "print(f\"Roll (degrees): {roll_deg}\")\n",
    "print(f\"Yaw (degrees): {yaw_deg}\")"
   ]
  },
  {
   "cell_type": "code",
   "execution_count": null,
   "id": "4bb34557-9f66-4b3b-ad80-d9e548eaf926",
   "metadata": {},
   "outputs": [],
   "source": []
  }
 ],
 "metadata": {
  "kernelspec": {
   "display_name": "Python [conda env:base] *",
   "language": "python",
   "name": "conda-base-py"
  },
  "language_info": {
   "codemirror_mode": {
    "name": "ipython",
    "version": 3
   },
   "file_extension": ".py",
   "mimetype": "text/x-python",
   "name": "python",
   "nbconvert_exporter": "python",
   "pygments_lexer": "ipython3",
   "version": "3.12.3"
  }
 },
 "nbformat": 4,
 "nbformat_minor": 5
}
